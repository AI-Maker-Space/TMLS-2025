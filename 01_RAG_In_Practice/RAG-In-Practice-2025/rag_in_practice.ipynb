{
 "cells": [
  {
   "cell_type": "markdown",
   "metadata": {},
   "source": [
    "<p align = \"center\" draggable=”false” ><img src=\"https://github.com/AI-Maker-Space/LLM-Dev-101/assets/37101144/d1343317-fa2f-41e1-8af1-1dbb18399719\" \n",
    "     width=\"200px\"\n",
    "     height=\"auto\"/>\n",
    "</p>\n",
    "\n",
    "<h1 align=\"center\" id=\"heading\">RAG in Practice - 2025</h1>\n",
    "\n",
    "In this event, we'll be looking at best-practice tools for RAG in 2025.\n",
    "\n",
    "We'll go over how to build a solid baseline RAG application (essentially what is tablestakes as of March 26th, 2025). \n",
    "\n",
    "This is by no means the *end* of the line for RAG - but it is what you should be building *at minimum* as you create RAG applications. \n",
    "\n",
    "Let's start with a big ole wall of environment variables.\n",
    "\n",
    "> NOTE: We're using cloud endpoints for demonstration purposes, you could deploy these models locally to avoid transmitting data outside your org. if required. There is one exception, with Cohere's Rerank model - an open-source alternative will be provided in the section for Reranking."
   ]
  },
  {
   "cell_type": "code",
   "execution_count": 1,
   "metadata": {},
   "outputs": [],
   "source": [
    "import os \n",
    "import getpass\n",
    "\n",
    "os.environ[\"TOGETHER_API_KEY\"] = getpass.getpass(\"Provide your Together API Key: \")\n",
    "os.environ[\"COHERE_API_KEY\"] = getpass.getpass(\"Provide your Cohere API Key: \")\n",
    "os.environ[\"NVIDIA_API_KEY\"] = getpass.getpass(\"Provide your NVIDIA API Key: \")"
   ]
  },
  {
   "cell_type": "markdown",
   "metadata": {},
   "source": [
    "We'll also select a best practice visibility and monitoring tool LangSmith, assuming you are using the LangX ecosystem for building the RAG application. \n",
    "\n",
    "> NOTE: You should substitute this tool with [Arize Phoenix](https://docs.arize.com/phoenix) if you are not using the LangX ecosystem."
   ]
  },
  {
   "cell_type": "code",
   "execution_count": 2,
   "metadata": {},
   "outputs": [],
   "source": [
    "os.environ[\"LANGSMITH_TRACING\"] = \"true\"\n",
    "os.environ[\"LANGSMITH_PROJECT\"] = \"RAG-In-Practice-2025\"\n",
    "os.environ[\"LANGSMITH_API_KEY\"] = getpass.getpass(\"Provide your Langsmith API Key: \")"
   ]
  },
  {
   "cell_type": "markdown",
   "metadata": {},
   "source": [
    "## Ingestion of Documents"
   ]
  },
  {
   "cell_type": "markdown",
   "metadata": {},
   "source": [
    "Notice how we're not using LangChain's default splitters. While this example is simplified - the idea holds true: \n",
    "\n",
    "Chunking/splitting is something that should be done in a thought-out way, relying on base chunking strategies is not a suggested practice. \n",
    "\n",
    "Since our data is quotations separated by `\\n\\n` - we'll build a simple function that splits our data into coherent chunks."
   ]
  },
  {
   "cell_type": "code",
   "execution_count": 3,
   "metadata": {},
   "outputs": [],
   "source": [
    "def split_docs(doc_path: str) -> list:\n",
    "    # Read the document\n",
    "    with open(doc_path, 'r', encoding='utf-8') as file:\n",
    "        content = file.read()\n",
    "    \n",
    "    # Split the document by double newlines\n",
    "    chunks = content.split('\\n\\n')\n",
    "    \n",
    "    # Remove any empty chunks\n",
    "    chunks = [chunk.strip() for chunk in chunks if chunk.strip()]\n",
    "    \n",
    "    return chunks"
   ]
  },
  {
   "cell_type": "code",
   "execution_count": 4,
   "metadata": {},
   "outputs": [
    {
     "data": {
      "text/plain": [
       "89"
      ]
     },
     "execution_count": 4,
     "metadata": {},
     "output_type": "execute_result"
    }
   ],
   "source": [
    "da_vinci_documents = split_docs(\"./data/da_vinci.txt\")\n",
    "len(da_vinci_documents)"
   ]
  },
  {
   "cell_type": "code",
   "execution_count": 5,
   "metadata": {},
   "outputs": [
    {
     "data": {
      "text/plain": [
       "'There are three classes of people: those who see. Those who see when they are shown. Those who do not see.'"
      ]
     },
     "execution_count": 5,
     "metadata": {},
     "output_type": "execute_result"
    }
   ],
   "source": [
    "da_vinci_documents[0]"
   ]
  },
  {
   "cell_type": "code",
   "execution_count": 6,
   "metadata": {},
   "outputs": [
    {
     "data": {
      "text/plain": [
       "50"
      ]
     },
     "execution_count": 6,
     "metadata": {},
     "output_type": "execute_result"
    }
   ],
   "source": [
    "henry_david_thoreau_documents = split_docs(\"./data/henry_david_thoreau.txt\")\n",
    "len(henry_david_thoreau_documents)"
   ]
  },
  {
   "cell_type": "code",
   "execution_count": 7,
   "metadata": {},
   "outputs": [
    {
     "data": {
      "text/plain": [
       "'1. “All good things are wild and free.”'"
      ]
     },
     "execution_count": 7,
     "metadata": {},
     "output_type": "execute_result"
    }
   ],
   "source": [
    "henry_david_thoreau_documents[0]"
   ]
  },
  {
   "cell_type": "markdown",
   "metadata": {},
   "source": [
    "As you can see - our Thoreau quotations have distracting characters - we'll clean those. \n",
    "\n",
    "> NOTE: Data quality is still incredibly important - again, this is a simple example - but it's meant to demonstate that you should care about your data. "
   ]
  },
  {
   "cell_type": "code",
   "execution_count": 8,
   "metadata": {},
   "outputs": [],
   "source": [
    "import re\n",
    "\n",
    "def clean_hdt_quotations(list_of_quotations):\n",
    "    cleaned_quotations = []\n",
    "    \n",
    "    for quotation in list_of_quotations:\n",
    "        without_numbering = re.sub(r'^\\d+\\.\\s+', '', quotation)\n",
    "        \n",
    "        cleaned_quote = without_numbering.strip('”')\n",
    "        if cleaned_quote.startswith('“'):\n",
    "            cleaned_quote = cleaned_quote[1:]\n",
    "        \n",
    "        cleaned_quotations.append(cleaned_quote)\n",
    "    \n",
    "    return cleaned_quotations"
   ]
  },
  {
   "cell_type": "code",
   "execution_count": 15,
   "metadata": {},
   "outputs": [
    {
     "data": {
      "text/plain": [
       "'All good things are wild and free.'"
      ]
     },
     "execution_count": 15,
     "metadata": {},
     "output_type": "execute_result"
    }
   ],
   "source": [
    "henry_david_thoreau_documents_clean = clean_hdt_quotations(henry_david_thoreau_documents)\n",
    "henry_david_thoreau_documents_clean[0]"
   ]
  },
  {
   "cell_type": "markdown",
   "metadata": {},
   "source": [
    "## Embedding Model\n",
    "\n",
    "We'll be using [llama-3.2-nv-embedqa-1b-v2](https://build.nvidia.com/nvidia/llama-3_2-nv-embedqa-1b-v2) as our Embedding Model today - it's fast, efficient, has long context, supports multiple languages, has incredibly high scores for retrieval tasks, and can be securely and locally hosted as a NIM. "
   ]
  },
  {
   "cell_type": "code",
   "execution_count": 9,
   "metadata": {},
   "outputs": [],
   "source": [
    "from langchain_nvidia_ai_endpoints import NVIDIAEmbeddings\n",
    "\n",
    "nvidia_embeddings = NVIDIAEmbeddings(\n",
    "  model=\"nvidia/llama-3.2-nv-embedqa-1b-v2\", \n",
    "  truncate=\"NONE\", \n",
    ")"
   ]
  },
  {
   "cell_type": "code",
   "execution_count": 10,
   "metadata": {},
   "outputs": [
    {
     "data": {
      "text/plain": [
       "2048"
      ]
     },
     "execution_count": 10,
     "metadata": {},
     "output_type": "execute_result"
    }
   ],
   "source": [
    "len(nvidia_embeddings.embed_query(\"Hello, there!\"))"
   ]
  },
  {
   "cell_type": "markdown",
   "metadata": {},
   "source": [
    "## Creating Vector Store - Qdrant\n",
    "\n",
    "Qdrant is our recommended Vector Database as it serves as a tool that you can start with, and will scale with you as your needs grow. "
   ]
  },
  {
   "cell_type": "code",
   "execution_count": 11,
   "metadata": {},
   "outputs": [],
   "source": [
    "from langchain_qdrant import QdrantVectorStore\n",
    "from qdrant_client import QdrantClient\n",
    "from qdrant_client.http.models import Distance, VectorParams\n",
    "\n",
    "client = QdrantClient(\":memory:\")"
   ]
  },
  {
   "cell_type": "code",
   "execution_count": 12,
   "metadata": {},
   "outputs": [
    {
     "data": {
      "text/plain": [
       "True"
      ]
     },
     "execution_count": 12,
     "metadata": {},
     "output_type": "execute_result"
    }
   ],
   "source": [
    "client.create_collection(\n",
    "    collection_name=\"quote_collection\",\n",
    "    vectors_config=VectorParams(size=2048, distance=Distance.COSINE),\n",
    ")"
   ]
  },
  {
   "cell_type": "code",
   "execution_count": 13,
   "metadata": {},
   "outputs": [],
   "source": [
    "vector_store = QdrantVectorStore(\n",
    "    client=client,\n",
    "    collection_name=\"quote_collection\",\n",
    "    embedding=nvidia_embeddings,\n",
    ")"
   ]
  },
  {
   "cell_type": "markdown",
   "metadata": {},
   "source": [
    "> NOTE: Notice how we inject metadata into Qdrant - this can be leveraged directly or indirectly as we'll see when we use the application. "
   ]
  },
  {
   "cell_type": "code",
   "execution_count": 16,
   "metadata": {},
   "outputs": [],
   "source": [
    "from uuid import uuid4\n",
    "from langchain_core.documents import Document\n",
    "\n",
    "documents = []\n",
    "uuids = []\n",
    "\n",
    "for i, quote in enumerate(henry_david_thoreau_documents_clean):\n",
    "    document = Document(\n",
    "        page_content=quote,\n",
    "        metadata={\"author\": f\"Henry David Thoreau\"},\n",
    "    )\n",
    "    uuid = str(uuid4())\n",
    "    documents.append(document)\n",
    "    uuids.append(uuid)\n",
    "\n",
    "_ = vector_store.add_documents(documents=documents, ids=uuids)"
   ]
  },
  {
   "cell_type": "code",
   "execution_count": 17,
   "metadata": {},
   "outputs": [],
   "source": [
    "documents = []\n",
    "uuids = []\n",
    "\n",
    "for i, quote in enumerate(da_vinci_documents):\n",
    "    document = Document(\n",
    "        page_content=quote,\n",
    "        metadata={\"author\": f\"Leonardo da Vinci\"},\n",
    "    )\n",
    "    uuid = str(uuid4())\n",
    "    documents.append(document)\n",
    "    uuids.append(uuid)\n",
    "\n",
    "_ = vector_store.add_documents(documents=documents, ids=uuids)"
   ]
  },
  {
   "cell_type": "markdown",
   "metadata": {},
   "source": [
    "## Creating our Retriever\n",
    "\n",
    "We are going to recommend that for retrieval you begin with: \n",
    "\n",
    "1. Hybrid Retrieval (Dense + Keyword)\n",
    "2. Reranking \n",
    "\n",
    "While methods like HyDE can be leveraged to great effect in some situations (as was shown in [this paper](https://arxiv.org/pdf/2407.01219)) - they're not as universally useful as the above flow. "
   ]
  },
  {
   "cell_type": "markdown",
   "metadata": {},
   "source": [
    "### Hybrid Retrieval\n",
    "\n",
    "We'll combine our dense retreival (LLM Embeddings) with BM25 and combine them with reciprocal rank-fusion (rRF) to produce a final list. \n",
    "\n",
    "> NOTE: We are choosing 5 pieces of context from both retrieval processes - this is an adjustable hyperparameter. The number should be larger than your final desired number of documents since the Reranking process can be used to filter out the lowest scoring options."
   ]
  },
  {
   "cell_type": "code",
   "execution_count": 18,
   "metadata": {},
   "outputs": [],
   "source": [
    "from langchain.retrievers import EnsembleRetriever\n",
    "from langchain_community.retrievers import BM25Retriever\n",
    "\n",
    "bm25_retriever = BM25Retriever.from_texts(\n",
    "    texts=henry_david_thoreau_documents_clean+da_vinci_documents,\n",
    ")\n",
    "bm25_retriever.k = 5\n",
    "\n",
    "hybrid_retriever = EnsembleRetriever(\n",
    "    retrievers=[\n",
    "        vector_store.as_retriever(search_kwargs={\"k\": 5}), \n",
    "        bm25_retriever\n",
    "    ],\n",
    "    weights=[0.5, 0.5],\n",
    ")"
   ]
  },
  {
   "cell_type": "markdown",
   "metadata": {},
   "source": [
    "### Reranking\n",
    "\n",
    "Reranking is an extremely important piece of the puzzle - as it allows us to more deeply search through a subset of our documents. \n",
    "\n",
    "> NOTE: As an open-source alternative, you could use [llama-3.2-nv-rerankqa-1b-v2](https://build.nvidia.com/nvidia/llama-3_2-nv-rerankqa-1b-v2), which has the same benefits as the Embedding Model."
   ]
  },
  {
   "cell_type": "code",
   "execution_count": 19,
   "metadata": {},
   "outputs": [],
   "source": [
    "from langchain.retrievers.contextual_compression import ContextualCompressionRetriever\n",
    "from langchain_cohere import CohereRerank\n",
    "\n",
    "cohere_rerank = CohereRerank(\n",
    "    model=\"rerank-english-v3.0\",\n",
    "    top_n=5,\n",
    ")\n",
    "\n",
    "reranker = ContextualCompressionRetriever(\n",
    "    base_compressor=cohere_rerank, base_retriever=hybrid_retriever\n",
    ")"
   ]
  },
  {
   "cell_type": "markdown",
   "metadata": {},
   "source": [
    "## RAG Prompt\n",
    "\n",
    "Prompts are still crucial - and while this prompt works well for this use-case, time should still be spent on exactly how you're prompting your LLM based on a number of factors. (generator model being used, number of documents retrieved, etc.)\n",
    "\n",
    "This process is, like data ingestion, something to spend time and effort on. "
   ]
  },
  {
   "cell_type": "code",
   "execution_count": 20,
   "metadata": {},
   "outputs": [],
   "source": [
    "from langchain_core.prompts import ChatPromptTemplate\n",
    "\n",
    "RAG_TEMPLATE = \"\"\"\n",
    "#CONTEXT:\n",
    "{context}\n",
    "\n",
    "QUERY:\n",
    "{query}\n",
    "\n",
    "Use the provide context to answer the provided user query. Only use the provided context to answer the query. If you do not know the answer, or it's not contained in the provided context response with \"I don't know\"\n",
    "\"\"\"\n",
    "\n",
    "chat_prompt = ChatPromptTemplate.from_messages([\n",
    "    (\"human\", RAG_TEMPLATE)\n",
    "])"
   ]
  },
  {
   "cell_type": "markdown",
   "metadata": {},
   "source": [
    "## Generator\n",
    "\n",
    "While we're recommending [meta-llama/Llama-3.3-70B-Instruct](https://huggingface.co/meta-llama/Llama-3.3-70B-Instruct) as the \"default best RAG model\" - this is another choice that is use-case, domain, and cost based. \n",
    "\n",
    "Right-sizing your model is still a difficult process in 2025 - but for most use-cases where you need a good model and can afford/support Llama 3.3 70B Instruct - you should find it extremely effective. "
   ]
  },
  {
   "cell_type": "code",
   "execution_count": 21,
   "metadata": {},
   "outputs": [],
   "source": [
    "from langchain_together import ChatTogether\n",
    "\n",
    "llm = ChatTogether(\n",
    "    model=\"meta-llama/Llama-3.3-70B-Instruct-Turbo\",\n",
    "    temperature=0.0,\n",
    ")"
   ]
  },
  {
   "cell_type": "code",
   "execution_count": 22,
   "metadata": {},
   "outputs": [
    {
     "data": {
      "text/plain": [
       "AIMessage(content='Henry David Thoreau, an American philosopher and writer, emphasized the importance of solitude in his works, particularly in his book \"Walden; or, Life in the Woods\" (1854). He believed that solitude was essential for personal growth, self-reflection, and a deeper connection with nature.\\n\\nThoreau argued that solitude allowed individuals to escape the distractions and superficialities of everyday life, and to focus on their inner lives and spiritual development. He wrote, \"I never found a companion that was so companionable as solitude\" (Walden, Chapter 5).\\n\\nThoreau\\'s experience of living alone in a cabin near Walden Pond for two years (1845-1847) was a deliberate experiment in simplicity and solitude. He sought to simplify his life, live in harmony with nature, and cultivate a sense of inner peace and contentment.\\n\\nIn \"Walden,\" Thoreau noted that solitude allowed him to:\\n\\n1. **Reflect on his life and values**: Solitude gave him the opportunity to examine his priorities, goals, and values, and to make conscious choices about how he wanted to live his life.\\n2. **Connect with nature**: Thoreau believed that solitude allowed him to develop a deeper appreciation and understanding of the natural world, and to recognize his place within it.\\n3. **Cultivate creativity and inspiration**: Solitude provided him with the space and quiet necessary for writing, thinking, and creative expression.\\n4. **Develop self-reliance and independence**: By living alone and relying on himself for survival, Thoreau developed a sense of self-reliance and independence that he believed was essential for personal growth and freedom.\\n\\nThoreau\\'s ideas about solitude have had a lasting impact on American thought and culture, influencing writers, philosophers, and environmentalists to this day. His emphasis on the importance of solitude as a means of personal growth, creativity, and spiritual development continues to resonate with people seeking a more meaningful and authentic way of life.', additional_kwargs={'refusal': None}, response_metadata={'token_usage': {'completion_tokens': 406, 'prompt_tokens': 47, 'total_tokens': 453, 'completion_tokens_details': None, 'prompt_tokens_details': None, 'cached_tokens': 0}, 'model_name': 'meta-llama/Llama-3.3-70B-Instruct-Turbo', 'system_fingerprint': None, 'id': 'nycrGkE-3NKUce-951b15b69ed3abe2', 'finish_reason': 'stop', 'logprobs': None}, id='run-3b751b7a-6a01-445c-a2ed-efcb98d5d4a5-0', usage_metadata={'input_tokens': 47, 'output_tokens': 406, 'total_tokens': 453, 'input_token_details': {}, 'output_token_details': {}})"
      ]
     },
     "execution_count": 22,
     "metadata": {},
     "output_type": "execute_result"
    }
   ],
   "source": [
    "llm.invoke(\"What did Thoreau say about the importance of solitude?\")"
   ]
  },
  {
   "cell_type": "markdown",
   "metadata": {},
   "source": [
    "## Creating RAG Graph\n",
    "\n",
    "We continue to suggest people to use LangGraph in 2025. Notice that LCEL is largely removed as the core way to interact with the LangX ecosystem - as we prefer to interact with it through LangGraph. "
   ]
  },
  {
   "cell_type": "code",
   "execution_count": 23,
   "metadata": {},
   "outputs": [],
   "source": [
    "from langgraph.graph import START, StateGraph\n",
    "from typing_extensions import List, TypedDict\n",
    "from langchain_core.documents import Document\n",
    "\n",
    "class RAGState(TypedDict):\n",
    "  question: str\n",
    "  context: List[Document]\n",
    "  response: str"
   ]
  },
  {
   "cell_type": "markdown",
   "metadata": {},
   "source": [
    "> NOTE: There is a subtle best-practice in the next cell, which is to return your contexts in ascending order. "
   ]
  },
  {
   "cell_type": "code",
   "execution_count": 24,
   "metadata": {},
   "outputs": [],
   "source": [
    "def retrieve(state: RAGState) -> RAGState:\n",
    "  retrieved_docs = reranker.invoke(state[\"question\"])\n",
    "  return {\"context\" : retrieved_docs[::-1]}"
   ]
  },
  {
   "cell_type": "code",
   "execution_count": 25,
   "metadata": {},
   "outputs": [],
   "source": [
    "from langchain_core.output_parsers import StrOutputParser\n",
    "\n",
    "def generate(state: RAGState) -> RAGState:\n",
    "  generation_chain = chat_prompt | llm | StrOutputParser()\n",
    "  response = generation_chain.invoke({\"query\" : state[\"question\"], \"context\" : state[\"context\"]})\n",
    "  return {\"response\" : response}"
   ]
  },
  {
   "cell_type": "code",
   "execution_count": 26,
   "metadata": {},
   "outputs": [],
   "source": [
    "graph_builder = StateGraph(RAGState)\n",
    "graph_builder = graph_builder.add_sequence([retrieve, generate])\n",
    "graph_builder.add_edge(START, \"retrieve\")\n",
    "graph = graph_builder.compile()"
   ]
  },
  {
   "cell_type": "code",
   "execution_count": 27,
   "metadata": {},
   "outputs": [
    {
     "data": {
      "image/png": "[encoded data removed]",
      "text/plain": [
       "<IPython.core.display.Image object>"
      ]
     },
     "metadata": {},
     "output_type": "display_data"
    }
   ],
   "source": [
    "from IPython.display import Image, display\n",
    "from langchain_core.runnables.graph import CurveStyle, MermaidDrawMethod, NodeStyles\n",
    "\n",
    "display(\n",
    "    Image(\n",
    "        graph.get_graph().draw_mermaid_png(\n",
    "            draw_method=MermaidDrawMethod.API,\n",
    "        )\n",
    "    )\n",
    ")"
   ]
  },
  {
   "cell_type": "markdown",
   "metadata": {},
   "source": [
    "## Testing our Pipeline"
   ]
  },
  {
   "cell_type": "markdown",
   "metadata": {},
   "source": [
    "### Not Present in Documents\n",
    "\n",
    "In this case, we know the question should not be answerable."
   ]
  },
  {
   "cell_type": "code",
   "execution_count": 28,
   "metadata": {},
   "outputs": [
    {
     "data": {
      "text/plain": [
       "\"I don't know\""
      ]
     },
     "execution_count": 28,
     "metadata": {},
     "output_type": "execute_result"
    }
   ],
   "source": [
    "response = graph.invoke({\"question\" : \"Why do birds sing?\"})\n",
    "response[\"response\"]"
   ]
  },
  {
   "cell_type": "markdown",
   "metadata": {},
   "source": [
    "### Wrong Author\n",
    "\n",
    "In this case, we know Da Vinci didn't have quotes about solitude in the corpus we used - but Thoreau did. "
   ]
  },
  {
   "cell_type": "code",
   "execution_count": 29,
   "metadata": {},
   "outputs": [
    {
     "data": {
      "text/plain": [
       "\"I don't know\""
      ]
     },
     "execution_count": 29,
     "metadata": {},
     "output_type": "execute_result"
    }
   ],
   "source": [
    "response = graph.invoke({\"question\" : \"What did Da Vinci have to say about solitude?\"})\n",
    "response[\"response\"]"
   ]
  },
  {
   "cell_type": "code",
   "execution_count": 30,
   "metadata": {},
   "outputs": [
    {
     "data": {
      "text/plain": [
       "[Document(metadata={'relevance_score': 1.3109144e-05}, page_content='Life isn’t about finding yourself; it’s about creating yourself. So live the life you imagined.'),\n",
       " Document(metadata={'author': 'Leonardo da Vinci', '_id': 'cc757a23-7778-4901-bed1-c2961217f005', '_collection_name': 'quote_collection', 'relevance_score': 1.7778551e-05}, page_content=\"Now you see that the hope and the desire of returning home and to one's former state is like the moth to the light, and that the man who with constant longing awaits with joy each new spring time, each new summer, each new month and new year — deeming that the things he longs for are ever too late in coming — does not perceive that he is longing for his own destruction. But this desire is the very quintessence, the spirit of the elements, which finding itself imprisoned with the soul is ever longing to return from the human body to its giver. And you must know that this same longing is that quintessence, inseparable from nature, and that man is the image of the world.\"),\n",
       " Document(metadata={'author': 'Leonardo da Vinci', '_id': '4c7e060f-b999-469a-8609-6ad5810c8aa3', '_collection_name': 'quote_collection', 'relevance_score': 0.00017952797}, page_content='If you meet with any one who is virtuous do not drive him from you; do him honour, so that he may not have to flee from you and be reduced to hiding in hermitages, or caves or other solitary places to escape from your treachery; if there is such an one among you do him honour, for these are our Saints upon earth; these are they who deserve statues from us, and images...'),\n",
       " Document(metadata={'author': 'Leonardo da Vinci', '_id': 'd2c6e603-f7e5-43a8-a200-4ee0ab3fe9fc', '_collection_name': 'quote_collection', 'relevance_score': 0.00039511538}, page_content='\"Study me, reader, if you delight in me, because on very few occasions shall I return to the world, and because the patience for this profession is found in very few, and only in those who wish to compose things anew. Come, oh men, to see the miracles that such studies will disclose to nature.\"'),\n",
       " Document(metadata={'author': 'Henry David Thoreau', '_id': 'bbaf1c06-770e-4abc-9758-1257a8deda86', '_collection_name': 'quote_collection', 'relevance_score': 0.0027576224}, page_content='I find it wholesome to be alone the greater part of the time. To be in company, even with the best, is soon wearisome and dissipating. I love to be alone. I never found the companion that was so companionable as solitude.')]"
      ]
     },
     "execution_count": 30,
     "metadata": {},
     "output_type": "execute_result"
    }
   ],
   "source": [
    "response[\"context\"]"
   ]
  },
  {
   "cell_type": "markdown",
   "metadata": {},
   "source": [
    "### Present in Documents\n",
    "\n",
    "Of course, the system should work for cases where the documentation exists. "
   ]
  },
  {
   "cell_type": "code",
   "execution_count": 31,
   "metadata": {},
   "outputs": [
    {
     "data": {
      "text/plain": [
       "'According to the provided context, Henry David Thoreau said: \"I find it wholesome to be alone the greater part of the time. To be in company, even with the best, is soon wearisome and dissipating. I love to be alone. I never found the companion that was so companionable as solitude.\"'"
      ]
     },
     "execution_count": 31,
     "metadata": {},
     "output_type": "execute_result"
    }
   ],
   "source": [
    "response = graph.invoke({\"question\" : \"What did Thoreau have to say about solitude?\"})\n",
    "response[\"response\"]"
   ]
  },
  {
   "cell_type": "code",
   "execution_count": 32,
   "metadata": {},
   "outputs": [
    {
     "data": {
      "text/plain": [
       "[Document(metadata={'relevance_score': 4.5397872e-05}, page_content='Life isn’t about finding yourself; it’s about creating yourself. So live the life you imagined.'),\n",
       " Document(metadata={'author': 'Leonardo da Vinci', '_id': '4c7e060f-b999-469a-8609-6ad5810c8aa3', '_collection_name': 'quote_collection', 'relevance_score': 0.00021152888}, page_content='If you meet with any one who is virtuous do not drive him from you; do him honour, so that he may not have to flee from you and be reduced to hiding in hermitages, or caves or other solitary places to escape from your treachery; if there is such an one among you do him honour, for these are our Saints upon earth; these are they who deserve statues from us, and images...'),\n",
       " Document(metadata={'author': 'Leonardo da Vinci', '_id': 'd2c6e603-f7e5-43a8-a200-4ee0ab3fe9fc', '_collection_name': 'quote_collection', 'relevance_score': 0.0007321813}, page_content='\"Study me, reader, if you delight in me, because on very few occasions shall I return to the world, and because the patience for this profession is found in very few, and only in those who wish to compose things anew. Come, oh men, to see the miracles that such studies will disclose to nature.\"'),\n",
       " Document(metadata={'author': 'Henry David Thoreau', '_id': 'adb1ea23-70df-4f58-baba-e8fe886ea656', '_collection_name': 'quote_collection', 'relevance_score': 0.001957017}, page_content='I went to the woods because I wished to live deliberately, to front only the essential facts of life, and see if I could not learn what it had to teach, and not, when I came to die, discover that I had not lived.'),\n",
       " Document(metadata={'author': 'Henry David Thoreau', '_id': 'bbaf1c06-770e-4abc-9758-1257a8deda86', '_collection_name': 'quote_collection', 'relevance_score': 0.00809329}, page_content='I find it wholesome to be alone the greater part of the time. To be in company, even with the best, is soon wearisome and dissipating. I love to be alone. I never found the companion that was so companionable as solitude.')]"
      ]
     },
     "execution_count": 32,
     "metadata": {},
     "output_type": "execute_result"
    }
   ],
   "source": [
    "response[\"context\"]"
   ]
  },
  {
   "cell_type": "markdown",
   "metadata": {},
   "source": [
    "### Synthesizing Responses\n",
    "\n",
    "Asking about quotes that are similar should allow us to compare and contrast each author's thoughts. "
   ]
  },
  {
   "cell_type": "code",
   "execution_count": 33,
   "metadata": {},
   "outputs": [
    {
     "data": {
      "text/plain": [
       "'Based on the provided context, here\\'s a comparison of Da Vinci and Thoreau\\'s thoughts on perception/seeing:\\n\\nDa Vinci\\'s quotes suggest that he believed perception and seeing are closely tied to the functioning of the eye and the study of nature. He stated that \"Drawing is based upon perspective, which is nothing else than a thorough knowledge of the function of the eye\" and \"All our knowledge has its origin in our perceptions.\" He also wondered about the difference in clarity between dreams and wakefulness, asking \"Why does the eye see a thing more clearly in dreams than the imagination when awake?\"\\n\\nThoreau, on the other hand, emphasized the importance of what one sees, rather than just what one looks at. He said, \"It\\'s not what you look at that matters, it\\'s what you see.\"\\n\\nIn contrast to Da Vinci\\'s focus on the physical aspect of seeing (the eye), Thoreau\\'s quote suggests a more introspective and interpretive approach to perception. While Da Vinci seems to be concerned with understanding the mechanics of seeing, Thoreau is more interested in the depth and quality of one\\'s observation.\\n\\nOverall, both authors highlight the significance of perception and seeing, but they approach the topic from different angles, with Da Vinci focusing on the physical and scientific aspects, and Thoreau emphasizing the importance of introspection and interpretation.'"
      ]
     },
     "execution_count": 33,
     "metadata": {},
     "output_type": "execute_result"
    }
   ],
   "source": [
    "response = graph.invoke({\"question\" : \"What did Da Vinci and Thoreau say about perception/seeing? Compare and contrast their thoughts.\"})\n",
    "response[\"response\"]"
   ]
  },
  {
   "cell_type": "markdown",
   "metadata": {},
   "source": [
    "## Evalution\n",
    "\n",
    "For Evaluating RAG applications in 2025 - we continue to recommend [Ragas](https://github.com/explodinggradients/ragas/tree/main) as a best practice tool. \n",
    "\n",
    "> NOTE: Please see our [Ragas event](https://www.youtube.com/watch?v=bB56BaQIBm4) for more in-depth explanations and examples!"
   ]
  },
  {
   "cell_type": "code",
   "execution_count": 34,
   "metadata": {},
   "outputs": [],
   "source": [
    "os.environ[\"OPENAI_API_KEY\"] = getpass.getpass(\"Provide your OpenAI API Key:\")"
   ]
  },
  {
   "cell_type": "code",
   "execution_count": 35,
   "metadata": {},
   "outputs": [
    {
     "data": {
      "text/plain": [
       "1"
      ]
     },
     "execution_count": 35,
     "metadata": {},
     "output_type": "execute_result"
    }
   ],
   "source": [
    "from ragas import SingleTurnSample\n",
    "from ragas.metrics import AspectCritic\n",
    "from ragas.llms import LangchainLLMWrapper\n",
    "from langchain_openai import ChatOpenAI\n",
    "\n",
    "test_data = {\n",
    "    \"user_input\": \"What did Da Vinci and Thoreau say about perception/seeing? Compare and contrast their thoughts.\",\n",
    "    \"response\": response[\"response\"],\n",
    "}\n",
    "evaluator_llm = LangchainLLMWrapper(ChatOpenAI(model=\"gpt-4o\"))\n",
    "metric = AspectCritic(name=\"fully_answered\",llm=evaluator_llm, definition=\"Verify if the question was answered completely.\")\n",
    "await metric.single_turn_ascore(SingleTurnSample(**test_data))"
   ]
  }
 ],
 "metadata": {
  "kernelspec": {
   "display_name": ".venv",
   "language": "python",
   "name": "python3"
  },
  "language_info": {
   "codemirror_mode": {
    "name": "ipython",
    "version": 3
   },
   "file_extension": ".py",
   "mimetype": "text/x-python",
   "name": "python",
   "nbconvert_exporter": "python",
   "pygments_lexer": "ipython3",
   "version": "3.13.0"
  }
 },
 "nbformat": 4,
 "nbformat_minor": 2
}
